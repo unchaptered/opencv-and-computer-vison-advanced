{
 "cells": [
  {
   "cell_type": "markdown",
   "id": "a730e820-ff0e-435e-8e27-e9da19d340e7",
   "metadata": {},
   "source": [
    "# KCF 알고리즘을 이용한 객체 추적\n",
    "\n",
    "[Kernal Correlation Filters 알고리즘](../0_thoery/6_Object_Tracking_KCF.md)에서 배운 내용을 Python 코드로 구현해봅시다."
   ]
  },
  {
   "cell_type": "markdown",
   "id": "0c8b8506-636d-497d-be32-16a004e9592b",
   "metadata": {},
   "source": [
    "### Import Libraries"
   ]
  },
  {
   "cell_type": "code",
   "execution_count": 16,
   "id": "a6fc9200-50ea-46c0-80f3-72fdf2862848",
   "metadata": {},
   "outputs": [],
   "source": [
    "import cv2\n",
    "\n",
    "# GIF 촬영을 위한 라이브러리\n",
    "from time import sleep"
   ]
  },
  {
   "cell_type": "markdown",
   "id": "fc46c012-8384-4d88-a961-dc8b8c330c0c",
   "metadata": {},
   "source": [
    "### Object Tracker 인스턴스 생성"
   ]
  },
  {
   "cell_type": "code",
   "execution_count": 17,
   "id": "b1901dfd-bc78-486f-8827-aec284503f62",
   "metadata": {},
   "outputs": [],
   "source": [
    "tracker = cv2.TrackerKCF_create()"
   ]
  },
  {
   "cell_type": "markdown",
   "id": "3d69b57c-ad8d-4006-8a7c-d8837c3c1b45",
   "metadata": {},
   "source": [
    "### Video File Load and Tracking"
   ]
  },
  {
   "cell_type": "code",
   "execution_count": 15,
   "id": "7c9b1f46-58bb-4ca1-a0fa-73f7741a44cc",
   "metadata": {},
   "outputs": [],
   "source": [
    "video = cv2.VideoCapture('../../assets/Examples/race.mp4')\n",
    "\n",
    "ret, frame = video.read()\n",
    "\n",
    "border_box = cv2.selectROI(frame)\n",
    "\n",
    "is_inited = tracker.init(frame, border_box)\n",
    "\n",
    "cv2.imshow('Tracking', frame)\n",
    "\n",
    "while True:\n",
    "    ok, frame = video.read()\n",
    "    if not ok:\n",
    "        break\n",
    "        \n",
    "    \n",
    "    is_tracked, border_box = tracker.update(frame)\n",
    "    if is_tracked:\n",
    "        \n",
    "        (x, y, w, h) = [int(value) for value in border_box]\n",
    "        cv2.rectangle(frame, (x, y), (x + w, y + h), (0, 255, 0), 2, 1)\n",
    "        \n",
    "    else:\n",
    "        cv2.putText(frame, 'Error', (100, 80), cv2.FONT_HERSHEY_SIMPLEX, 1, (0, 0, 255), 2)\n",
    "    \n",
    "    cv2.imshow('Tracking', frame)\n",
    "    \n",
    "    if cv2.waitKey(10) & 0xFF == 27:\n",
    "        \n",
    "        break\n",
    "        \n",
    "\n",
    "cv2.destroyAllWindows()\n",
    "video.release()"
   ]
  },
  {
   "attachments": {},
   "cell_type": "markdown",
   "id": "38555768-5590-499c-bad6-30950740e7f8",
   "metadata": {},
   "source": [
    "### Result\n",
    "\n",
    "![](../../images/results/001_KCF_Result.gif)\n",
    "![](../../images/results/002_KCF_Result_2.gif)"
   ]
  },
  {
   "cell_type": "code",
   "execution_count": null,
   "id": "20fcbc6f-d3f3-4614-98a2-816c06c164ca",
   "metadata": {},
   "outputs": [],
   "source": []
  }
 ],
 "metadata": {
  "kernelspec": {
   "display_name": "computer-vision-master-class",
   "language": "python",
   "name": "python3"
  },
  "language_info": {
   "codemirror_mode": {
    "name": "ipython",
    "version": 3
   },
   "file_extension": ".py",
   "mimetype": "text/x-python",
   "name": "python",
   "nbconvert_exporter": "python",
   "pygments_lexer": "ipython3",
   "version": "3.8.13"
  },
  "vscode": {
   "interpreter": {
    "hash": "34ff5edede6459e9206c371f5d640b8759bf527eede87ed64a9f4037801f224d"
   }
  }
 },
 "nbformat": 4,
 "nbformat_minor": 5
}
