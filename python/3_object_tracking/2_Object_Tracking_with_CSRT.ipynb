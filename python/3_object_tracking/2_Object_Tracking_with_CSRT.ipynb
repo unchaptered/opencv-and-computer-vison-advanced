{
 "cells": [
  {
   "cell_type": "markdown",
   "id": "0ee77044-9593-49f6-a7f5-1dd974c912ae",
   "metadata": {},
   "source": [
    "# CSRT를 이용한 객체 추적\n",
    "\n",
    "[Discriminative Correlation Filters with Channel and Spatial Reliability 알고리즘](../0_thoery/7_Object_Tracking_CSRT.md)에서 배운 내용을 Python 코드로 구현해봅시다."
   ]
  },
  {
   "cell_type": "markdown",
   "id": "e4fafba7-6ce8-4615-be72-a905cfe7ff91",
   "metadata": {},
   "source": [
    "### Import Libraries"
   ]
  },
  {
   "cell_type": "code",
   "execution_count": 2,
   "id": "5c3da8e1-1536-4a55-9fa8-950d6d8389ce",
   "metadata": {},
   "outputs": [],
   "source": [
    "import cv2\n",
    "\n",
    "# GIF 촬영을 위한 라이브러리\n",
    "from time import sleep"
   ]
  },
  {
   "cell_type": "markdown",
   "id": "394f7075-04f1-4da9-b71a-51ac05e87373",
   "metadata": {},
   "source": [
    "### Object Tracker 인스턴스 생성"
   ]
  },
  {
   "cell_type": "code",
   "execution_count": 3,
   "id": "7fd18bdf-6b1d-4398-98c4-d33715551bca",
   "metadata": {},
   "outputs": [],
   "source": [
    "tracker = cv2.TrackerCSRT_create()"
   ]
  },
  {
   "cell_type": "markdown",
   "id": "66af3de8-18dd-4e72-a09e-6b461bcbabab",
   "metadata": {},
   "source": [
    "### Video File Load and Tracking"
   ]
  },
  {
   "cell_type": "code",
   "execution_count": 4,
   "id": "f86aad69-b1f2-44b6-b3d6-4de7930c66be",
   "metadata": {},
   "outputs": [],
   "source": [
    "video = cv2.VideoCapture('../../assets/Examples/race.mp4')\n",
    "\n",
    "ret, frame = video.read()\n",
    "\n",
    "border_box = cv2.selectROI(frame)\n",
    "\n",
    "is_inited = tracker.init(frame, border_box)\n",
    "\n",
    "cv2.imshow('Tracking', frame)\n",
    "\n",
    "while True:\n",
    "    ok, frame = video.read()\n",
    "    if not ok:\n",
    "        break\n",
    "        \n",
    "    \n",
    "    is_tracked, border_box = tracker.update(frame)\n",
    "    if is_tracked:\n",
    "        \n",
    "        (x, y, w, h) = [int(value) for value in border_box]\n",
    "        cv2.rectangle(frame, (x, y), (x + w, y + h), (0, 255, 0), 2, 1)\n",
    "        \n",
    "    else:\n",
    "        cv2.putText(frame, 'Error', (100, 80), cv2.FONT_HERSHEY_SIMPLEX, 1, (0, 0, 255), 2)\n",
    "    \n",
    "    cv2.imshow('Tracking', frame)\n",
    "    \n",
    "    if cv2.waitKey(10) & 0xFF == 27:\n",
    "        \n",
    "        break\n",
    "        \n",
    "\n",
    "cv2.destroyAllWindows()\n",
    "video.release()"
   ]
  },
  {
   "cell_type": "markdown",
   "id": "223de8f5-d9b6-4c25-9ca7-aeb9ee5a2cf4",
   "metadata": {},
   "source": [
    "![](../../images/results/003_CSRT_all_parts_of_body_1.gif)\n",
    "![](../../images/results/004_CSRT_half_parts_of_body_2.gif)"
   ]
  },
  {
   "cell_type": "code",
   "execution_count": null,
   "id": "f5b162b3-4458-4b2d-afff-6cf78e3b9d5c",
   "metadata": {},
   "outputs": [],
   "source": []
  }
 ],
 "metadata": {
  "kernelspec": {
   "display_name": "computer-vision-master-class",
   "language": "python",
   "name": "python3"
  },
  "language_info": {
   "codemirror_mode": {
    "name": "ipython",
    "version": 3
   },
   "file_extension": ".py",
   "mimetype": "text/x-python",
   "name": "python",
   "nbconvert_exporter": "python",
   "pygments_lexer": "ipython3",
   "version": "3.8.13"
  },
  "vscode": {
   "interpreter": {
    "hash": "34ff5edede6459e9206c371f5d640b8759bf527eede87ed64a9f4037801f224d"
   }
  }
 },
 "nbformat": 4,
 "nbformat_minor": 5
}
