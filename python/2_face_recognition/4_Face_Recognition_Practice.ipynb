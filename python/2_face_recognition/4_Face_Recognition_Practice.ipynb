{
 "cells": [
  {
   "cell_type": "markdown",
   "id": "493585ba-96dd-42c1-95f2-0c626f79a6f5",
   "metadata": {},
   "source": [
    "## Practice\n",
    "\n",
    "'../../assets/Datasets/jones_gabriel.zip'을 이용하여 얼굴 인식을 구현하세요.\n",
    "\n",
    "LBPH 알고리즘과 CNN Dlib을 이용하여 각각 구현하고 그 정확도를 비교해봅시다."
   ]
  },
  {
   "cell_type": "markdown",
   "id": "20428201-0283-4584-af63-8da88eddb5b6",
   "metadata": {},
   "source": [
    "## 1. LBPH 알고리즘"
   ]
  },
  {
   "cell_type": "markdown",
   "id": "0edb3881-5a2d-45ef-b92d-15e2da63f6cf",
   "metadata": {},
   "source": [
    "### 1.1. Pre-requisites\n",
    "\n",
    "zipfile 라이브러리를 이용해서 압축파일을 해제하세요."
   ]
  },
  {
   "cell_type": "code",
   "execution_count": 2,
   "id": "a7c914a8-7d70-446e-bcc9-10464a1b8f53",
   "metadata": {},
   "outputs": [],
   "source": [
    "import zipfile\n",
    "\n",
    "zip_object = zipfile.ZipFile(file='../../assets/Datasets/jones_gabriel.zip', mode='r')\n",
    "zip_object.extractall('./')\n",
    "zip_object.close()"
   ]
  },
  {
   "cell_type": "markdown",
   "id": "748add03-d921-435b-8041-c01effee9024",
   "metadata": {},
   "source": [
    "#### 1.1.1. list-up\n",
    "\n",
    "데이터셋의 리스트업을 준비하세요"
   ]
  },
  {
   "cell_type": "code",
   "execution_count": 31,
   "id": "1cbd3f37-4e23-46a6-91f0-7f83394b45fc",
   "metadata": {},
   "outputs": [],
   "source": [
    "import os\n",
    "import numpy as np\n",
    "from PIL import Image\n",
    "\n",
    "paths = [os.path.join('jones_gabriel/', f) for f in os.listdir('jones_gabriel/')]\n",
    "paths = [f.replace('\\\\', '/') for f in paths]\n",
    "\n",
    "ids = []\n",
    "faces = []\n",
    "\n",
    "for path in paths:\n",
    "    image = Image.open(path).convert('L')\n",
    "    image_np = np.array(image, 'uint8')\n",
    "    \n",
    "    # person.대상(1자리수).인덱스(1~2자리수).jpg\n",
    "    id = int(os.path.split(path)[1][7:8])\n",
    "    \n",
    "    ids.append(id)\n",
    "    faces.append(image_np)\n",
    "    \n",
    "ids = np.array(ids)"
   ]
  },
  {
   "cell_type": "markdown",
   "id": "0b00ee1e-97e4-4145-873b-96e83a30d833",
   "metadata": {},
   "source": [
    "### 1.2. LBPH Model 학습"
   ]
  },
  {
   "cell_type": "code",
   "execution_count": 32,
   "id": "b70ea971-b1c8-4d2b-b8ae-faa881757ff1",
   "metadata": {},
   "outputs": [
    {
     "name": "stdout",
     "output_type": "stream",
     "text": [
      "1 <class 'numpy.int32'>\n"
     ]
    }
   ],
   "source": [
    "print(ids[0], type(ids[0]))"
   ]
  },
  {
   "cell_type": "code",
   "execution_count": 33,
   "id": "e2d9cae4-27c9-4a42-b2ce-94a740a63101",
   "metadata": {},
   "outputs": [],
   "source": [
    "import cv2\n",
    "\n",
    "lbph_classifier = cv2.face.LBPHFaceRecognizer_create()\n",
    "lbph_classifier.train(src=faces, labels=ids)\n",
    "lbph_classifier.save('prac_lbph_classifier.pyml')"
   ]
  },
  {
   "cell_type": "markdown",
   "id": "7da41ca3-5538-432b-8c5a-4d3b9a7af3cc",
   "metadata": {},
   "source": [
    "#### 1.2.1. LBPH Model 검증"
   ]
  },
  {
   "cell_type": "code",
   "execution_count": 50,
   "id": "4794e7ce-500e-4642-9176-65e4ed1e11f6",
   "metadata": {},
   "outputs": [],
   "source": [
    "predictations = []\n",
    "expected_outputs = []\n",
    "\n",
    "for path in paths:\n",
    "    image = Image.open(path).convert('L')\n",
    "    image_np = np.array(image)\n",
    "    \n",
    "    predictation, _ = lbph_classifier.predict(image_np)\n",
    "    expectation = int(os.path.split(path)[1][7:8])\n",
    "\n",
    "    predictations.append(predictation)\n",
    "    expected_outputs.append(expectation)\n",
    "    \n",
    "predictations = np.array(predictations)\n",
    "expected_outputs = np.array(expected_outputs)"
   ]
  },
  {
   "cell_type": "markdown",
   "id": "a82c3fb4-2c52-44a1-9a7a-9dffacd6aadd",
   "metadata": {},
   "source": [
    "#### 1.2.2. LBPH Model 신뢰도 평가"
   ]
  },
  {
   "cell_type": "code",
   "execution_count": 51,
   "id": "4aa87050-43be-41b7-9a96-87127ae18169",
   "metadata": {},
   "outputs": [
    {
     "data": {
      "text/plain": [
       "1.0"
      ]
     },
     "execution_count": 51,
     "metadata": {},
     "output_type": "execute_result"
    }
   ],
   "source": [
    "from sklearn.metrics import accuracy_score\n",
    "\n",
    "accuracy_score(expected_outputs, predictations)"
   ]
  },
  {
   "cell_type": "code",
   "execution_count": 54,
   "id": "95d5c667-c777-4c8d-9cc4-0c442575deb2",
   "metadata": {},
   "outputs": [
    {
     "name": "stdout",
     "output_type": "stream",
     "text": [
      "[[25  0]\n",
      " [ 0 25]]\n"
     ]
    }
   ],
   "source": [
    "from sklearn.metrics import confusion_matrix\n",
    "\n",
    "cm = confusion_matrix(expected_outputs, predictations)\n",
    "print(cm)"
   ]
  },
  {
   "cell_type": "code",
   "execution_count": 59,
   "id": "fee0d36e-edea-4274-9312-c4f28d9eb5bd",
   "metadata": {},
   "outputs": [
    {
     "data": {
      "text/plain": [
       "<AxesSubplot:>"
      ]
     },
     "execution_count": 59,
     "metadata": {},
     "output_type": "execute_result"
    },
    {
     "data": {
      "image/png": "[encoded data removed]",
      "text/plain": [
       "<Figure size 432x288 with 2 Axes>"
      ]
     },
     "metadata": {
      "needs_background": "light"
     },
     "output_type": "display_data"
    }
   ],
   "source": [
    "import seaborn\n",
    "\n",
    "seaborn.heatmap(cm, annot=True)"
   ]
  },
  {
   "cell_type": "code",
   "execution_count": null,
   "id": "8b833f4d-b8fa-4288-a3d0-5094b5b94c9d",
   "metadata": {},
   "outputs": [],
   "source": []
  },
  {
   "cell_type": "code",
   "execution_count": null,
   "id": "b6d7ed58-a7a7-40cb-8da8-74abd8504793",
   "metadata": {},
   "outputs": [],
   "source": []
  },
  {
   "cell_type": "markdown",
   "id": "35462b71-0798-4322-a180-8eb69629ffe2",
   "metadata": {},
   "source": [
    "## 2. CNN Dlib\n",
    "\n",
    "1. Detect Facial Points\n",
    "2. Detecting Facial Descriptor\n",
    "3. Calculating the distance between faces\n",
    "4. Detecting faces with Dlib\n",
    "5. Threshold"
   ]
  },
  {
   "cell_type": "markdown",
   "id": "e12c5fa4-f881-4a03-811a-0e637867b294",
   "metadata": {},
   "source": [
    "### 2.1. Detect Facial Points"
   ]
  },
  {
   "cell_type": "code",
   "execution_count": 63,
   "id": "9e02c3d9-d5e6-4eae-9d96-c1770a613e63",
   "metadata": {},
   "outputs": [],
   "source": [
    "import dlib\n",
    "import matplotlib.pyplot as plt\n",
    "%matplotlib inline"
   ]
  },
  {
   "cell_type": "code",
   "execution_count": null,
   "id": "00888baa-c53a-40d7-b012-b2d79978d3cb",
   "metadata": {},
   "outputs": [
    {
     "data": {
      "text/plain": [
       "<matplotlib.image.AxesImage at 0x19b33ebc400>"
      ]
     },
     "execution_count": 89,
     "metadata": {},
     "output_type": "execute_result"
    },
    {
     "data": {
      "image/png": "[encoded data removed]",
      "text/plain": [
       "<Figure size 432x288 with 1 Axes>"
      ]
     },
     "metadata": {
      "needs_background": "light"
     },
     "output_type": "display_data"
    }
   ],
   "source": [
    "img = cv2.imread('./jones_gabriel/person.2.3.jpg')\n",
    "cvt_img = cv2.cvtColor(img, cv2.COLOR_BGR2RGB)\n",
    "resized_img = cv2.resize(cvt_img, (1000, 1000))\n",
    "\n",
    "light = 50\n",
    "lightened_filter = np.full(resized_img.shape, (light, light, light), dtype=np.uint8)\n",
    "lightened_img = cv2.add(resized_img.copy(), lightened_filter)\n",
    "\n",
    "face_detector = dlib.get_frontal_face_detector()\n",
    "face_detection = face_detector(lightened_img, 1)\n",
    "\n",
    "for face in face_detection:\n",
    "    \n",
    "    pt1, pt2 = (face.left(), face.top()), (face.right(), face.bottom())\n",
    "    cv2.rectangle(lightened_img, pt1, pt2, (255, 255, 0), 1)\n",
    "\n",
    "# plt.figure(figsize=(100,50))\n",
    "plt.imshow(lightened_img)"
   ]
  },
  {
   "cell_type": "markdown",
   "id": "76c34053-e3da-4d87-8b29-c607d423cfdb",
   "metadata": {},
   "source": [
    "### 2.2. Fail\n",
    "\n",
    "이 강의를 든는 2023-02-07에는 CNN Dlib 추가 학습법을 알지 못합니다. <br>\n",
    "또한, 위에서보듯이 dlib.get_frontal_face_detector()가 정상적으로 얼굴을 잡지 못하고 있습니다.<br>\n",
    "\n",
    "해당 교육과정의 본질인 **전체적인 맥락을 훑어본다**에 위반되는 것 같아서 일단 스킵하고 별도의 **사이드 프로젝트**에서 이를 구현하도록 하겠습니다."
   ]
  },
  {
   "cell_type": "code",
   "execution_count": null,
   "id": "f4555c59-51cb-4a60-a914-8d3d3bac7810",
   "metadata": {},
   "outputs": [],
   "source": []
  }
 ],
 "metadata": {
  "kernelspec": {
   "display_name": "Python 3 (ipykernel)",
   "language": "python",
   "name": "python3"
  },
  "language_info": {
   "codemirror_mode": {
    "name": "ipython",
    "version": 3
   },
   "file_extension": ".py",
   "mimetype": "text/x-python",
   "name": "python",
   "nbconvert_exporter": "python",
   "pygments_lexer": "ipython3",
   "version": "3.8.13"
  }
 },
 "nbformat": 4,
 "nbformat_minor": 5
}
