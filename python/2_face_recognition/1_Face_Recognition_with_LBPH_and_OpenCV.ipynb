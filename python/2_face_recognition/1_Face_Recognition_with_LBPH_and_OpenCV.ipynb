{
 "cells": [
  {
   "cell_type": "markdown",
   "id": "96f89e32-f72f-4508-b1b6-c2f6d59e64b8",
   "metadata": {},
   "source": [
    "## LBPH\n",
    "\n",
    "Local Binary Patterns Histograms"
   ]
  },
  {
   "cell_type": "code",
   "execution_count": 2,
   "id": "f75cf75b-6163-444e-9de2-2b434c4e3b2e",
   "metadata": {},
   "outputs": [],
   "source": [
    "import os\n",
    "import cv2\n",
    "import numpy as np\n",
    "from PIL import Image\n",
    "\n",
    "import matplotlib.pyplot as plt\n",
    "%matplotlib inline"
   ]
  },
  {
   "cell_type": "code",
   "execution_count": 3,
   "id": "a081f0da-8181-4e37-a731-1655f25049c7",
   "metadata": {},
   "outputs": [],
   "source": [
    "import zipfile\n",
    "\n",
    "path = '../../assets/Datasets/yalefaces.zip'\n",
    "zip_object = zipfile.ZipFile(file=path, mode='r')\n",
    "zip_object.extractall('./')\n",
    "zip_object.close()"
   ]
  },
  {
   "cell_type": "code",
   "execution_count": 4,
   "id": "8d6117d6-8b65-4971-86d1-a10758bd1faa",
   "metadata": {},
   "outputs": [],
   "source": [
    "def get_image_data():\n",
    "    paths = [os.path.join('yalefaces/train', f) for f in os.listdir('yalefaces/train')]\n",
    "    paths = [f.replace('\\\\', '/') for f in paths]\n",
    "    \n",
    "    faces = []\n",
    "    ids = []\n",
    "    \n",
    "    for path in paths:\n",
    "        image = Image.open(path).convert('L') # 'L'은 Single Channel을 의미합니다.\n",
    "        image_np = np.array(image, 'uint8')\n",
    "        \n",
    "        id = int(os.path.split(path)[1][7:9])\n",
    "        \n",
    "        ids.append(id)\n",
    "        faces.append(image_np)\n",
    "    \n",
    "    return np.array(ids), faces"
   ]
  },
  {
   "cell_type": "code",
   "execution_count": 5,
   "id": "47fb4f5c-21f1-4c10-b9ed-3100fd158062",
   "metadata": {},
   "outputs": [
    {
     "name": "stdout",
     "output_type": "stream",
     "text": [
      "135 135\n",
      "1 [[130 130 130 ... 255 255 255]\n",
      " [255 255 255 ... 255 255 255]\n",
      " [255 255 255 ... 255 255 255]\n",
      " ...\n",
      " [255 255 255 ... 252 255 255]\n",
      " [255 255 255 ... 255 255 255]\n",
      " [ 68  68  68 ...  68  68  68]]\n",
      "<class 'numpy.int32'> <class 'numpy.ndarray'>\n"
     ]
    }
   ],
   "source": [
    "ids, faces = get_image_data()\n",
    "print(len(ids), len(faces))\n",
    "print(ids[0], faces[0])\n",
    "print(type(ids[0]), type(faces[0]))"
   ]
  },
  {
   "cell_type": "markdown",
   "id": "804ec43d-3a30-4f8d-992d-a75ea7a32671",
   "metadata": {},
   "source": [
    "## LBPH Face Recognizer 학습\n",
    "\n",
    "이 인스턴스에서 중요한 인자는 다음과 같으며, 각 값은 이미지를 몇 개의 그리드로 분리할 지를 의미합니다.\n",
    "\n",
    "- grid_x : (default 8)\n",
    "- grid_y : (default 8)\n",
    "\n",
    "생성 이후에 .train()을 이용해서 Recognizer를 학습할 수 있습니다.<br>\n",
    "학습된 Recognizer는 .write()를 이용해서 저장할 수 있으며, 기본 확장자는 .yml(.yaml)입니다."
   ]
  },
  {
   "cell_type": "code",
   "execution_count": 6,
   "id": "6cc4066c-4f62-44b1-b4bf-f2245ed2c75a",
   "metadata": {},
   "outputs": [],
   "source": [
    "lbph_classifier = cv2.face.LBPHFaceRecognizer_create()\n",
    "lbph_classifier.train(src=faces, labels=ids)\n",
    "\n",
    "lbph_classifier.write('lbph_classifier.yml')"
   ]
  },
  {
   "cell_type": "markdown",
   "id": "0c5072ba-3977-42b2-a73a-3a2fc0f7402d",
   "metadata": {},
   "source": [
    "## LBPH Face Recognizer 로딩 후 사용\n",
    "\n",
    "미리 학습해둔 LBPH Face Recognizer를 사용할 수 있습니다."
   ]
  },
  {
   "cell_type": "code",
   "execution_count": 7,
   "id": "83d6282c-e7c0-4569-8c2e-16914d54c43f",
   "metadata": {},
   "outputs": [],
   "source": [
    "lbph_classifier = cv2.face.LBPHFaceRecognizer_create()\n",
    "\n",
    "lbph_classifier.read('./lbph_classifier.yml')"
   ]
  },
  {
   "cell_type": "code",
   "execution_count": 8,
   "id": "2af5eec9-4bcd-45c7-a1b2-23e278692101",
   "metadata": {},
   "outputs": [
    {
     "name": "stdout",
     "output_type": "stream",
     "text": [
      "(243, 320)\n"
     ]
    }
   ],
   "source": [
    "path = './yalefaces/test/subject10.sad.gif'\n",
    "image = Image.open(path).convert('L')\n",
    "image_np = np.array(image, 'uint8')\n",
    "print(image_np.shape)"
   ]
  },
  {
   "cell_type": "markdown",
   "id": "5d1ed6e9-235f-40a7-b4d3-13e5f915bde1",
   "metadata": {},
   "source": [
    "- **예측값**"
   ]
  },
  {
   "cell_type": "code",
   "execution_count": 9,
   "id": "43278be6-119a-49f5-85f5-8d816f508a21",
   "metadata": {},
   "outputs": [
    {
     "name": "stdout",
     "output_type": "stream",
     "text": [
      "(10, 6.384336446373091)\n"
     ]
    }
   ],
   "source": [
    "prediction = lbph_classifier.predict(image_np)\n",
    "print(prediction)"
   ]
  },
  {
   "cell_type": "markdown",
   "id": "c59cf592-4d2e-49c9-a073-a7db8a58f34a",
   "metadata": {},
   "source": [
    "- **결과값**"
   ]
  },
  {
   "cell_type": "code",
   "execution_count": 10,
   "id": "23d979e7-95ee-4f8c-bf1c-a2dda8d76d29",
   "metadata": {},
   "outputs": [
    {
     "name": "stdout",
     "output_type": "stream",
     "text": [
      "10\n"
     ]
    }
   ],
   "source": [
    "expected_output = int(os.path.split(path)[1][7:9])\n",
    "print(expected_output)"
   ]
  },
  {
   "cell_type": "markdown",
   "id": "9cd6f8e5-2b0c-484d-90bd-c2dcec671323",
   "metadata": {},
   "source": [
    "- **결과값 이미지 보기**"
   ]
  },
  {
   "cell_type": "code",
   "execution_count": 11,
   "id": "963d8298-9ba1-41a8-94a1-a7298b355a4c",
   "metadata": {},
   "outputs": [
    {
     "data": {
      "text/plain": [
       "<matplotlib.image.AxesImage at 0x1a166abf790>"
      ]
     },
     "execution_count": 11,
     "metadata": {},
     "output_type": "execute_result"
    },
    {
     "data": {
      "image/png": "[encoded data removed]",
      "text/plain": [
       "<Figure size 432x288 with 1 Axes>"
      ]
     },
     "metadata": {
      "needs_background": "light"
     },
     "output_type": "display_data"
    }
   ],
   "source": [
    "image_np = cv2.cvtColor(image_np, cv2.COLOR_BGR2RGB)\n",
    "cv2.putText(image_np, 'Pred : ' + str(prediction[0]), (10, 30), cv2.FONT_HERSHEY_COMPLEX_SMALL, 1, (0, 255, 0))\n",
    "cv2.putText(image_np, 'Exp : ' + str(expected_output), (10, 50), cv2.FONT_HERSHEY_COMPLEX_SMALL, 1, (0, 255, 0))\n",
    "\n",
    "plt.imshow(image_np)"
   ]
  },
  {
   "cell_type": "markdown",
   "id": "3ba6c9e2-e810-4424-86be-aaa8f1d48a6d",
   "metadata": {},
   "source": [
    "## LBPH Face Recognizer 평가하기"
   ]
  },
  {
   "cell_type": "code",
   "execution_count": 12,
   "id": "592bbee9-6acb-460f-8b2a-3adeab613e73",
   "metadata": {},
   "outputs": [],
   "source": [
    "paths = [os.path.join('yalefaces/test', f) for f in os.listdir('yalefaces/test')]\n",
    "paths = [f.replace('\\\\', '/') for f in paths]\n",
    "\n",
    "predictions = []\n",
    "expected_outputs = []\n",
    "\n",
    "for path in paths:\n",
    "    \n",
    "    image = Image.open(path).convert('L')\n",
    "    image_np = np.array(image, 'uint8')\n",
    "    \n",
    "    prediction, _ = lbph_classifier.predict(image_np)\n",
    "    expected_output = int(os.path.split(path)[1][7:9])\n",
    "    \n",
    "    predictions.append(prediction)\n",
    "    expected_outputs.append(expected_output)"
   ]
  },
  {
   "cell_type": "code",
   "execution_count": 13,
   "id": "1d215ebc-beec-48a4-9864-f82db4ccc352",
   "metadata": {},
   "outputs": [],
   "source": [
    "predictions = np.array(predictions)\n",
    "expected_outputs = np.array(expected_outputs)"
   ]
  },
  {
   "cell_type": "code",
   "execution_count": 14,
   "id": "534ed0e9-eb50-4668-9f83-5fb82cf9d3d4",
   "metadata": {},
   "outputs": [],
   "source": [
    "from sklearn.metrics import accuracy_score"
   ]
  },
  {
   "cell_type": "code",
   "execution_count": 15,
   "id": "1fbcef5b-1a1d-4191-9271-4992ee883eac",
   "metadata": {},
   "outputs": [
    {
     "data": {
      "text/plain": [
       "0.6666666666666666"
      ]
     },
     "execution_count": 15,
     "metadata": {},
     "output_type": "execute_result"
    }
   ],
   "source": [
    "accuracy_score(expected_outputs, predictions)"
   ]
  },
  {
   "cell_type": "code",
   "execution_count": 16,
   "id": "24dff914-7bac-45b4-9477-a2a9352cd686",
   "metadata": {},
   "outputs": [],
   "source": [
    "from sklearn.metrics import confusion_matrix"
   ]
  },
  {
   "cell_type": "code",
   "execution_count": 17,
   "id": "e1e1396c-2ea4-4959-a9f1-c4ad665bf517",
   "metadata": {},
   "outputs": [
    {
     "data": {
      "text/plain": [
       "array([[2, 0, 0, 0, 0, 0, 0, 0, 0, 0, 0, 0, 0, 0, 0],\n",
       "       [0, 0, 0, 1, 1, 0, 0, 0, 0, 0, 0, 0, 0, 0, 0],\n",
       "       [0, 0, 1, 0, 0, 0, 0, 0, 1, 0, 0, 0, 0, 0, 0],\n",
       "       [0, 0, 0, 1, 0, 0, 0, 0, 1, 0, 0, 0, 0, 0, 0],\n",
       "       [0, 0, 0, 0, 2, 0, 0, 0, 0, 0, 0, 0, 0, 0, 0],\n",
       "       [0, 0, 0, 0, 0, 1, 0, 0, 0, 0, 0, 0, 0, 1, 0],\n",
       "       [0, 0, 0, 0, 0, 0, 1, 0, 1, 0, 0, 0, 0, 0, 0],\n",
       "       [0, 0, 0, 1, 0, 0, 0, 1, 0, 0, 0, 0, 0, 0, 0],\n",
       "       [0, 0, 0, 0, 0, 0, 1, 0, 1, 0, 0, 0, 0, 0, 0],\n",
       "       [0, 0, 0, 1, 0, 0, 0, 0, 0, 1, 0, 0, 0, 0, 0],\n",
       "       [0, 0, 0, 0, 0, 0, 0, 0, 0, 0, 2, 0, 0, 0, 0],\n",
       "       [0, 0, 0, 0, 0, 0, 0, 0, 0, 0, 0, 2, 0, 0, 0],\n",
       "       [0, 0, 0, 0, 0, 0, 0, 0, 0, 0, 0, 0, 2, 0, 0],\n",
       "       [0, 0, 0, 0, 0, 0, 0, 0, 0, 0, 0, 0, 0, 2, 0],\n",
       "       [0, 0, 0, 0, 0, 0, 1, 0, 0, 0, 0, 0, 0, 0, 1]], dtype=int64)"
      ]
     },
     "execution_count": 17,
     "metadata": {},
     "output_type": "execute_result"
    }
   ],
   "source": [
    "cm = confusion_matrix(expected_outputs, predictions)\n",
    "cm"
   ]
  },
  {
   "cell_type": "markdown",
   "id": "8bf7b6cd-192a-42d1-a3b2-172756d61c27",
   "metadata": {},
   "source": [
    "### 평가자료 시각화하기"
   ]
  },
  {
   "cell_type": "code",
   "execution_count": 18,
   "id": "dd929c06-2e10-43e9-86c1-1b78f09df0f0",
   "metadata": {},
   "outputs": [],
   "source": [
    "import seaborn"
   ]
  },
  {
   "cell_type": "code",
   "execution_count": 19,
   "id": "6bf3dd28-0458-4dac-aca2-559108d625c8",
   "metadata": {},
   "outputs": [
    {
     "data": {
      "image/png": "[encoded data removed]",
      "text/plain": [
       "<Figure size 432x288 with 2 Axes>"
      ]
     },
     "metadata": {
      "needs_background": "light"
     },
     "output_type": "display_data"
    }
   ],
   "source": [
    "seaborn.heatmap(cm);"
   ]
  },
  {
   "cell_type": "markdown",
   "id": "7ef1cb4e-ae36-42ed-b50c-bb8f74a520c7",
   "metadata": {},
   "source": [
    "## 평가자료 시각화하기 + 파라미터\n",
    "\n",
    "결과값 N는 prediction이 expectation과 **일치했음**을 의미합니다.<br>\n",
    "결과값 0은 prediction이 expectation과 **일치하지 않았음**을 의미합니다."
   ]
  },
  {
   "cell_type": "code",
   "execution_count": 20,
   "id": "6abc2cb0-9034-4df0-bf4d-3b2b0762f69b",
   "metadata": {},
   "outputs": [
    {
     "data": {
      "image/png": "[encoded data removed]",
      "text/plain": [
       "<Figure size 432x288 with 2 Axes>"
      ]
     },
     "metadata": {
      "needs_background": "light"
     },
     "output_type": "display_data"
    }
   ],
   "source": [
    "seaborn.heatmap(cm, annot=True);"
   ]
  },
  {
   "cell_type": "code",
   "execution_count": null,
   "id": "61c3eaad-5c43-4756-90a7-5f19c1f2e874",
   "metadata": {},
   "outputs": [],
   "source": []
  }
 ],
 "metadata": {
  "kernelspec": {
   "display_name": "Python 3 (ipykernel)",
   "language": "python",
   "name": "python3"
  },
  "language_info": {
   "codemirror_mode": {
    "name": "ipython",
    "version": 3
   },
   "file_extension": ".py",
   "mimetype": "text/x-python",
   "name": "python",
   "nbconvert_exporter": "python",
   "pygments_lexer": "ipython3",
   "version": "3.8.13"
  }
 },
 "nbformat": 4,
 "nbformat_minor": 5
}
